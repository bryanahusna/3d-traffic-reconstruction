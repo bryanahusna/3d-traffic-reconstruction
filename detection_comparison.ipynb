{
 "cells": [
  {
   "cell_type": "markdown",
   "metadata": {},
   "source": [
    "## Dataset 100 Images KITTI"
   ]
  },
  {
   "cell_type": "code",
   "execution_count": 1,
   "metadata": {},
   "outputs": [],
   "source": [
    "from os import listdir\n",
    "from os.path import join\n",
    "\n",
    "dataset_dir_path = \"C:/Bryan/TA/KITTI/Detection Comparison\"\n",
    "file_paths = [join(dataset_dir_path, f) for f in listdir(dataset_dir_path)]"
   ]
  },
  {
   "cell_type": "code",
   "execution_count": 4,
   "metadata": {},
   "outputs": [
    {
     "data": {
      "text/plain": [
       "['C:/Bryan/TA/KITTI/Detection Comparison\\\\000000.png',\n",
       " 'C:/Bryan/TA/KITTI/Detection Comparison\\\\000001.png',\n",
       " 'C:/Bryan/TA/KITTI/Detection Comparison\\\\000002.png',\n",
       " 'C:/Bryan/TA/KITTI/Detection Comparison\\\\000003.png',\n",
       " 'C:/Bryan/TA/KITTI/Detection Comparison\\\\000004.png']"
      ]
     },
     "execution_count": 4,
     "metadata": {},
     "output_type": "execute_result"
    }
   ],
   "source": [
    "file_paths[:5]"
   ]
  },
  {
   "cell_type": "markdown",
   "metadata": {},
   "source": [
    "## YOLOv9"
   ]
  },
  {
   "cell_type": "code",
   "execution_count": 2,
   "metadata": {},
   "outputs": [
    {
     "name": "stdout",
     "output_type": "stream",
     "text": [
      "Detecting using yolov9c...\n",
      "Total inference time: 11.76383090019226 s\n",
      "Per image inference time: 117.63830900192261 ms\n"
     ]
    }
   ],
   "source": [
    "# YOLOv9c\n",
    "from ultralytics import YOLO\n",
    "import torch\n",
    "import time\n",
    "\n",
    "device_name = '0'\n",
    "yolov9 = YOLO(\"yolov9c.pt\").to('cuda')\n",
    "print('Detecting using yolov9c...')\n",
    "\n",
    "start = time.time()\n",
    "\n",
    "for file_path in file_paths:\n",
    "    yolov9(file_path, verbose=False)\n",
    "\n",
    "end = time.time()\n",
    "inference_time = end - start\n",
    "print(f'Total inference time: {inference_time} s')\n",
    "print(f'Per image inference time: {inference_time/len(file_paths) * 1000} ms')"
   ]
  },
  {
   "cell_type": "code",
   "execution_count": 2,
   "metadata": {},
   "outputs": [
    {
     "name": "stdout",
     "output_type": "stream",
     "text": [
      "Detecting using yolov9e...\n",
      "Total inference time: 21.152153968811035 s\n",
      "Per image inference time: 211.52153968811035 ms\n"
     ]
    }
   ],
   "source": [
    "# YOLOv9e\n",
    "from ultralytics import YOLO\n",
    "import torch\n",
    "import time\n",
    "\n",
    "device_name = '0'\n",
    "yolov9 = YOLO(\"yolov9e.pt\").to('cuda')\n",
    "print('Detecting using yolov9e...')\n",
    "\n",
    "start = time.time()\n",
    "\n",
    "for file_path in file_paths:\n",
    "    yolov9(file_path, verbose=False)\n",
    "\n",
    "end = time.time()\n",
    "inference_time = end - start\n",
    "print(f'Total inference time: {inference_time} s')\n",
    "print(f'Per image inference time: {inference_time/len(file_paths) * 1000} ms')"
   ]
  },
  {
   "cell_type": "markdown",
   "metadata": {},
   "source": [
    "## YOLOv8"
   ]
  },
  {
   "cell_type": "code",
   "execution_count": 2,
   "metadata": {},
   "outputs": [
    {
     "name": "stdout",
     "output_type": "stream",
     "text": [
      "Detecting using yolov8l...\n",
      "Total inference time: 15.059379816055298 s\n",
      "Per image inference time: 150.59379816055298 ms\n"
     ]
    }
   ],
   "source": [
    "# YOLOv8l\n",
    "from ultralytics import YOLO\n",
    "import torch\n",
    "import time\n",
    "\n",
    "device_name = '0'\n",
    "yolov8 = YOLO(\"yolov8l.pt\").to('cuda')\n",
    "print('Detecting using yolov8l...')\n",
    "\n",
    "start = time.time()\n",
    "\n",
    "for file_path in file_paths:\n",
    "    yolov8(file_path, verbose=False)\n",
    "\n",
    "end = time.time()\n",
    "inference_time = end - start\n",
    "print(f'Total inference time: {inference_time} s')\n",
    "print(f'Per image inference time: {inference_time/len(file_paths) * 1000} ms')"
   ]
  },
  {
   "cell_type": "code",
   "execution_count": 2,
   "metadata": {},
   "outputs": [
    {
     "name": "stdout",
     "output_type": "stream",
     "text": [
      "Detecting using yolov8x...\n",
      "Total inference time: 23.693313598632812 s\n",
      "Per image inference time: 236.93313598632812 ms\n"
     ]
    }
   ],
   "source": [
    "# YOLOv8x\n",
    "from ultralytics import YOLO\n",
    "import torch\n",
    "import time\n",
    "\n",
    "device_name = '0'\n",
    "yolov8 = YOLO(\"yolov8x.pt\").to('cuda')\n",
    "print('Detecting using yolov8x...')\n",
    "\n",
    "start = time.time()\n",
    "\n",
    "for file_path in file_paths:\n",
    "    yolov8(file_path, verbose=False)\n",
    "\n",
    "end = time.time()\n",
    "inference_time = end - start\n",
    "print(f'Total inference time: {inference_time} s')\n",
    "print(f'Per image inference time: {inference_time/len(file_paths) * 1000} ms')"
   ]
  },
  {
   "cell_type": "markdown",
   "metadata": {},
   "source": [
    "## SSD300"
   ]
  },
  {
   "cell_type": "code",
   "execution_count": 4,
   "metadata": {},
   "outputs": [
    {
     "name": "stderr",
     "output_type": "stream",
     "text": [
      "Using cache found in C:\\Users\\bryan/.cache\\torch\\hub\\NVIDIA_DeepLearningExamples_torchhub\n",
      "Using cache found in C:\\Users\\bryan/.cache\\torch\\hub\\NVIDIA_DeepLearningExamples_torchhub\n"
     ]
    },
    {
     "name": "stdout",
     "output_type": "stream",
     "text": [
      "Detecting using ssd300...\n",
      "Total inference time: 12.426536798477173 s\n",
      "Per image inference time: 124.26536798477173 ms\n"
     ]
    }
   ],
   "source": [
    "# SSD300\n",
    "import torch\n",
    "import time\n",
    "\n",
    "ssd_model = torch.hub.load('NVIDIA/DeepLearningExamples:torchhub', 'nvidia_ssd')\n",
    "utils = torch.hub.load('NVIDIA/DeepLearningExamples:torchhub', 'nvidia_ssd_processing_utils')\n",
    "ssd_model.to('cuda')\n",
    "ssd_model.eval()\n",
    "print('Detecting using ssd300...')\n",
    "\n",
    "start = time.time()\n",
    "\n",
    "with torch.no_grad():\n",
    "    for file_path in file_paths:\n",
    "        inputs = [utils.prepare_input(file_path)]\n",
    "        tensor = utils.prepare_tensor(inputs)\n",
    "        detections_batch = ssd_model(tensor)\n",
    "\n",
    "end = time.time()\n",
    "inference_time = end - start\n",
    "print(f'Total inference time: {inference_time} s')\n",
    "print(f'Per image inference time: {inference_time/len(file_paths) * 1000} ms')"
   ]
  }
 ],
 "metadata": {
  "kernelspec": {
   "display_name": "python310",
   "language": "python",
   "name": "python3"
  },
  "language_info": {
   "codemirror_mode": {
    "name": "ipython",
    "version": 3
   },
   "file_extension": ".py",
   "mimetype": "text/x-python",
   "name": "python",
   "nbconvert_exporter": "python",
   "pygments_lexer": "ipython3",
   "version": "3.10.13"
  }
 },
 "nbformat": 4,
 "nbformat_minor": 2
}
