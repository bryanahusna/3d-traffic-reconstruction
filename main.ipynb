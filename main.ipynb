{
 "cells": [
  {
   "cell_type": "code",
   "execution_count": 33,
   "metadata": {},
   "outputs": [],
   "source": [
    "from PIL import Image, ImageDraw, ImageFont\n",
    "import numpy as np\n",
    "from dist_yolo.dist_yolo import DistYOLO\n",
    "import cv2"
   ]
  },
  {
   "cell_type": "code",
   "execution_count": 8,
   "metadata": {},
   "outputs": [],
   "source": [
    "dist_yolo = DistYOLO()\n",
    "dist_yolo.load_model('./dist_yolo/trained_final (1).h5')\n",
    "# image = Image.open(input_image_path)\n",
    "# pred = dist_yolo.detect(image)\n",
    "# print(pred)"
   ]
  },
  {
   "cell_type": "code",
   "execution_count": 31,
   "metadata": {},
   "outputs": [
    {
     "name": "stdout",
     "output_type": "stream",
     "text": [
      "1/1 [==============================] - 1s 692ms/step\n"
     ]
    }
   ],
   "source": [
    "input_image_path = r\"./images/input2.png\"\n",
    "img = Image.open(input_image_path)\n",
    "# result = dist_yolo.detect_image(img)\n",
    "# result.show()\n",
    "result = dist_yolo.detect(img)\n",
    "dets = list(zip(result[0], result[1], result[2], result[3]))"
   ]
  },
  {
   "cell_type": "code",
   "execution_count": 32,
   "metadata": {},
   "outputs": [
    {
     "name": "stdout",
     "output_type": "stream",
     "text": [
      "[(array([  0, 413, 359, 570]), 1, 0.9967573505989691, array([4.99194956])), (array([ 874,  392, 1200,  585]), 1, 0.993887914017094, array([8.25419331]))]\n"
     ]
    }
   ],
   "source": [
    "# draw bounding box\n",
    "output_image = Image.open(input_image_path)\n",
    "draw = ImageDraw.Draw(output_image)\n",
    "for p in dets:\n",
    "    if p[1] != 1 and p[1] != 2 and p[1] != 3:\n",
    "        continue\n",
    "    \n",
    "    draw.rectangle(((p[0][0], p[0][1]), (p[0][2], p[0][3])))\n",
    "    draw.text(((p[0][0] + p[0][2]) / 2, (p[0][1] + p[0][3]) / 2), f'{p[3]}')\n",
    "\n",
    "# output_image.save('output.jpg', 'JPEG')\n",
    "output_image.show()"
   ]
  },
  {
   "cell_type": "code",
   "execution_count": null,
   "metadata": {},
   "outputs": [],
   "source": [
    "x = cv2.imread()\n",
    "Image.fromarray"
   ]
  }
 ],
 "metadata": {
  "kernelspec": {
   "display_name": "python310",
   "language": "python",
   "name": "python3"
  },
  "language_info": {
   "codemirror_mode": {
    "name": "ipython",
    "version": 3
   },
   "file_extension": ".py",
   "mimetype": "text/x-python",
   "name": "python",
   "nbconvert_exporter": "python",
   "pygments_lexer": "ipython3",
   "version": "3.10.13"
  }
 },
 "nbformat": 4,
 "nbformat_minor": 2
}
