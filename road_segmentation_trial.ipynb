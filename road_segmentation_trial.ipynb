{
 "cells": [
  {
   "cell_type": "code",
   "execution_count": 111,
   "metadata": {},
   "outputs": [],
   "source": [
    "import cv2\n",
    "from road_segmentation.road_segmentation import RoadSegmentation\n",
    "\n",
    "road_segmentation = RoadSegmentation()\n",
    "image_name = 'input4'"
   ]
  },
  {
   "cell_type": "code",
   "execution_count": 112,
   "metadata": {},
   "outputs": [
    {
     "data": {
      "text/plain": [
       "True"
      ]
     },
     "execution_count": 112,
     "metadata": {},
     "output_type": "execute_result"
    }
   ],
   "source": [
    "img = cv2.imread(f'images/{image_name}.png')\n",
    "segmented = road_segmentation.predict(img)\n",
    "cv2.imwrite('road_segmented.png', segmented)"
   ]
  },
  {
   "cell_type": "code",
   "execution_count": 117,
   "metadata": {},
   "outputs": [
    {
     "name": "stdout",
     "output_type": "stream",
     "text": [
      "359 -3.1337047353760448\n",
      "354 -3.1779661016949152\n",
      "349 -3.2234957020057307\n",
      "344 -3.270348837209302\n",
      "339 -3.3185840707964602\n",
      "334 -3.3682634730538923\n",
      "329 -3.419452887537994\n",
      "324 -3.4722222222222223\n",
      "319 -3.5266457680250785\n",
      "314 -3.582802547770701\n",
      "309 -3.6407766990291264\n",
      "304 -3.700657894736842\n",
      "299 -3.762541806020067\n",
      "294 -3.826530612244898\n",
      "289 -3.8927335640138407\n",
      "284 -3.961267605633803\n",
      "279 -4.032258064516129\n",
      "274 -4.105839416058394\n",
      "269 -4.182156133828996\n",
      "264 -4.261363636363637\n",
      "259 -4.343629343629344\n",
      "254 -4.429133858267717\n",
      "249 -4.518072289156627\n",
      "244 -4.610655737704918\n",
      "239 -4.707112970711297\n",
      "234 -4.8076923076923075\n",
      "229 -4.9126637554585155\n",
      "224 -5.022321428571429\n",
      "219 -5.136986301369863\n",
      "214 -5.257009345794392\n",
      "209 -5.382775119617225\n",
      "204 -5.514705882352941\n",
      "199 -5.653266331658291\n",
      "194 -5.798969072164948\n",
      "189 -5.9523809523809526\n",
      "184 -6.114130434782608\n",
      "179 -6.284916201117318\n",
      "174 -6.4655172413793105\n",
      "169 -6.65680473372781\n",
      "164 -6.859756097560975\n",
      "159 -7.0754716981132075\n",
      "154 -7.305194805194805\n",
      "149 -7.550335570469799\n",
      "144 -7.8125\n",
      "139 -8.093525179856115\n",
      "134 -8.395522388059701\n",
      "129 -8.720930232558139\n",
      "124 -9.07258064516129\n",
      "119 -9.453781512605042\n",
      "114 -9.868421052631579\n",
      "109 -10.321100917431192\n",
      "104 -10.817307692307692\n",
      "99 -11.363636363636363\n",
      "94 -11.96808510638298\n",
      "89 -12.640449438202246\n",
      "84 -13.392857142857142\n",
      "79 -14.240506329113924\n",
      "74 -15.202702702702704\n",
      "69 -16.304347826086957\n",
      "64 -17.578125\n",
      "59 -19.06779661016949\n",
      "54 -20.833333333333332\n",
      "49 -22.959183673469386\n",
      "44 -25.568181818181817\n",
      "39 -28.846153846153847\n",
      "34 -33.088235294117645\n",
      "29 -38.793103448275865\n",
      "24 -46.875\n",
      "19 -59.21052631578947\n",
      "14 -80.35714285714286\n",
      "9 -125.0\n",
      "4 -281.25\n"
     ]
    }
   ],
   "source": [
    "points = []\n",
    "zc = 750\n",
    "y = 1.5\n",
    "height = len(segmented)\n",
    "for y_s in range(height-1, height//2, -5):\n",
    "    yc = y_s - height//2\n",
    "    z = -zc * y / yc\n",
    "    print(yc, z)\n",
    "    width = len(segmented[y_s])\n",
    "    half_width = width / 2\n",
    "    for x_s in range(0, width, 3):\n",
    "        if segmented[y_s, x_s, 0] == 255 and segmented[y_s, x_s, 2] == 125:\n",
    "            x = 1 / zc * (x_s - half_width)\n",
    "            points.append([x, 0, z])\n",
    "        # elif segmented[y, x, 1] == 255:\n",
    "        #     points.append([y * zc * (x - half_width)/100, 0.6, z])\n",
    "        elif segmented[y_s, x_s, 2] == 255: # and segmented[y_s, x_s, 0] == 0 and segmented[y_s, x_s, 1] == 0:\n",
    "            x = 1 / zc * (x_s - half_width)\n",
    "            points.append([x, 0, z])\n",
    "        # else:\n",
    "        #     points.append([y * zc * (x - half_width)/100, 0, z])"
   ]
  },
  {
   "cell_type": "code",
   "execution_count": 4,
   "metadata": {},
   "outputs": [
    {
     "data": {
      "text/plain": [
       "[-2.6740947075208914, 0, 3.1337047353760448]"
      ]
     },
     "execution_count": 4,
     "metadata": {},
     "output_type": "execute_result"
    }
   ],
   "source": [
    "points[0]"
   ]
  },
  {
   "cell_type": "code",
   "execution_count": 118,
   "metadata": {},
   "outputs": [
    {
     "data": {
      "application/vnd.jupyter.widget-view+json": {
       "model_id": "96c05e1cc93746449e5d89313dd09f36",
       "version_major": 2,
       "version_minor": 0
      },
      "text/plain": [
       "Widget(value='<iframe src=\"http://localhost:65049/index.html?ui=P_0x23811e64490_9&reconnect=auto\" class=\"pyvis…"
      ]
     },
     "metadata": {},
     "output_type": "display_data"
    }
   ],
   "source": [
    "import pyvista as pv\n",
    "import trimesh\n",
    "\n",
    "cloud = pv.PolyData(points)\n",
    "cloud.plot(eye_dome_lighting=True)\n",
    "\n",
    "# plotter = pv.Plotter()\n",
    "# plotter.add_mesh(cloud)\n",
    "# panel = plotter.show()\n",
    "\n",
    "# surf = cloud.delaunay_2d()\n",
    "# # surf = surf.extract_surface().triangulate()\n",
    "\n",
    "# faces_as_array = surf.faces.reshape((-1, 4))[:, 1:] \n",
    "# tmesh = trimesh.Trimesh(vertices=surf.points, faces=faces_as_array)\n",
    "# tmesh.show()"
   ]
  },
  {
   "cell_type": "markdown",
   "metadata": {},
   "source": [
    "## Hough Points Segmentation"
   ]
  },
  {
   "cell_type": "code",
   "execution_count": 5,
   "metadata": {},
   "outputs": [
    {
     "data": {
      "application/vnd.jupyter.widget-view+json": {
       "model_id": "8e463cdb6fd34755a4c89611e7ac47d5",
       "version_major": 2,
       "version_minor": 0
      },
      "text/plain": [
       "Widget(value='<iframe src=\"http://localhost:61548/index.html?ui=P_0x24734ba1ab0_2&reconnect=auto\" class=\"pyvis…"
      ]
     },
     "metadata": {},
     "output_type": "display_data"
    }
   ],
   "source": [
    "import pyvista as pv\n",
    "import trimesh\n",
    "\n",
    "hough_points = [\n",
    "    [155.0, 173.0, 191.0, 209.0, 5.0],\n",
    "    [125.0, 141.0, 157.0, 173.0, 4.0],\n",
    "    [66.0, 89.0, 112.0, 122.0, 3.0],\n",
    "    [45.0, 60.0, 75.0, 76.0, 2.0],\n",
    "    [0.0,26.0,32.0,20.0,1.0]\n",
    "]\n",
    "\n",
    "points = []\n",
    "sz = 100\n",
    "for hp in hough_points:\n",
    "    for i in range(len(hp)-1):\n",
    "        points.append([hp[i], 0, -i*sz])\n",
    "\n",
    "cloud = pv.PolyData(points)\n",
    "cloud.plot(eye_dome_lighting=True)\n",
    "\n",
    "# surf = cloud.delaunay_2d()\n",
    "# faces_as_array = surf.faces.reshape((-1, 4))[:, 1:] \n",
    "# tmesh = trimesh.Trimesh(vertices=surf.points, faces=faces_as_array)\n",
    "# tmesh.show()"
   ]
  },
  {
   "cell_type": "code",
   "execution_count": 107,
   "metadata": {},
   "outputs": [],
   "source": [
    "panel"
   ]
  },
  {
   "cell_type": "code",
   "execution_count": 97,
   "metadata": {},
   "outputs": [
    {
     "data": {
      "text/plain": [
       "(98128,)"
      ]
     },
     "execution_count": 97,
     "metadata": {},
     "output_type": "execute_result"
    }
   ],
   "source": [
    "surf.faces.shape"
   ]
  }
 ],
 "metadata": {
  "kernelspec": {
   "display_name": "python310",
   "language": "python",
   "name": "python3"
  },
  "language_info": {
   "codemirror_mode": {
    "name": "ipython",
    "version": 3
   },
   "file_extension": ".py",
   "mimetype": "text/x-python",
   "name": "python",
   "nbconvert_exporter": "python",
   "pygments_lexer": "ipython3",
   "version": "3.10.13"
  }
 },
 "nbformat": 4,
 "nbformat_minor": 2
}
