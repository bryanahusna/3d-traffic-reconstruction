{
 "cells": [
  {
   "cell_type": "code",
   "execution_count": 3,
   "metadata": {},
   "outputs": [
    {
     "name": "stdout",
     "output_type": "stream",
     "text": [
      "Detecting using GPU...\n"
     ]
    }
   ],
   "source": [
    "from ultralytics import YOLO\n",
    "# from yaen.yaen import YAEN\n",
    "import cv2\n",
    "import json\n",
    "import torch\n",
    "# from yaen.models.baselines import *\n",
    "\n",
    "# Load YOLOv9\n",
    "device_name = 'cpu'\n",
    "if torch.cuda.is_available():\n",
    "    torch.cuda.set_device(0)\n",
    "    device_name = '0'\n",
    "    yolov9 = YOLO(\"yolov9c.pt\").to('cuda')\n",
    "    print('Detecting using GPU...')\n",
    "else:\n",
    "    device_name = 'cpu'\n",
    "    yolov9 = YOLO(\"yolov9c.pt\").to('cpu')\n",
    "    print('Detecting using CPU...')"
   ]
  },
  {
   "cell_type": "code",
   "execution_count": 2,
   "metadata": {},
   "outputs": [
    {
     "name": "stdout",
     "output_type": "stream",
     "text": [
      "WARNING:tensorflow:From c:\\ProgramData\\anaconda3\\envs\\python310\\lib\\site-packages\\keras\\src\\losses.py:2976: The name tf.losses.sparse_softmax_cross_entropy is deprecated. Please use tf.compat.v1.losses.sparse_softmax_cross_entropy instead.\n",
      "\n",
      "WARNING:tensorflow:From c:\\ProgramData\\anaconda3\\envs\\python310\\lib\\site-packages\\keras\\src\\backend.py:1398: The name tf.executing_eagerly_outside_functions is deprecated. Please use tf.compat.v1.executing_eagerly_outside_functions instead.\n",
      "\n",
      "WARNING:tensorflow:From c:\\ProgramData\\anaconda3\\envs\\python310\\lib\\site-packages\\keras\\src\\layers\\pooling\\max_pooling2d.py:161: The name tf.nn.max_pool is deprecated. Please use tf.nn.max_pool2d instead.\n",
      "\n",
      "WARNING:tensorflow:From c:\\ProgramData\\anaconda3\\envs\\python310\\lib\\site-packages\\tensorflow\\python\\util\\dispatch.py:1260: calling l2_normalize (from tensorflow.python.ops.nn_impl) with dim is deprecated and will be removed in a future version.\n",
      "Instructions for updating:\n",
      "dim is deprecated, use axis instead\n"
     ]
    }
   ],
   "source": [
    "from deepbox.deepbox import Deepbox\n",
    "\n",
    "deepbox = Deepbox()"
   ]
  },
  {
   "cell_type": "code",
   "execution_count": 26,
   "metadata": {},
   "outputs": [
    {
     "name": "stdout",
     "output_type": "stream",
     "text": [
      "\n"
     ]
    },
    {
     "name": "stdout",
     "output_type": "stream",
     "text": [
      "0: 384x640 6 cars, 1 truck, 205.7ms\n",
      "Speed: 288.6ms preprocess, 205.7ms inference, 2.6ms postprocess per image at shape (1, 3, 384, 640)\n",
      "1/1 [==============================] - 0s 174ms/step\n",
      "1/1 [==============================] - 0s 178ms/step\n",
      "1/1 [==============================] - 0s 172ms/step\n",
      "1/1 [==============================] - 0s 148ms/step\n",
      "1/1 [==============================] - 0s 228ms/step\n",
      "1/1 [==============================] - 0s 168ms/step\n",
      "1/1 [==============================] - 0s 172ms/step\n"
     ]
    }
   ],
   "source": [
    "im = cv2.imread(r'images\\input3.png')\n",
    "result = yolov9.predict(im)[0]\n",
    "detc_2ds = []\n",
    "for i, box in enumerate(result.boxes):\n",
    "    accepted_class_names = ['car', 'bus', 'truck']\n",
    "    class_index = int(result.boxes.cls[i])\n",
    "    if result.names[class_index] not in accepted_class_names:\n",
    "        continue\n",
    "\n",
    "    conf = float(result.boxes.conf[i])\n",
    "    xywh = result.boxes.xywh[i]\n",
    "    x1 = int(xywh[0] - xywh[2]/2)\n",
    "    y1 = int(xywh[1] - xywh[3]/2)\n",
    "    x2 = int(xywh[0] + xywh[2]/2)\n",
    "    y2 = int(xywh[1] + xywh[3]/2)\n",
    "    detc_2ds.append([result.names[class_index], [x1, y1, x2, y2]])\n",
    "\n",
    "yaws = deepbox.predict(im, detc_2ds)\n"
   ]
  },
  {
   "cell_type": "code",
   "execution_count": 27,
   "metadata": {},
   "outputs": [
    {
     "data": {
      "text/plain": [
       "True"
      ]
     },
     "execution_count": 27,
     "metadata": {},
     "output_type": "execute_result"
    }
   ],
   "source": [
    "import numpy as np\n",
    "yaw_degrees = [np.rad2deg(yaw) for yaw in yaws]\n",
    "\n",
    "for i, detc_2d in enumerate(detc_2ds):\n",
    "    cv2.rectangle(im, (int(detc_2d[1][0]), int(detc_2d[1][1])), (int(detc_2d[1][2]), int(detc_2d[1][3])), (0, 255, 0), 3)\n",
    "    cv2.putText(im, f'{int(yaw_degrees[i])}, {detc_2d[0]}', (int(detc_2d[1][0]), int(detc_2d[1][1])), cv2.FONT_HERSHEY_SIMPLEX, 0.5, (255, 0, 0), 2)\n",
    "\n",
    "cv2.imwrite('deepbox_trial_3.png', im)\n",
    "# from matplotlib import pyplot as plt\n",
    "# plt.imshow(im)\n",
    "# plt.show()"
   ]
  }
 ],
 "metadata": {
  "kernelspec": {
   "display_name": "python310",
   "language": "python",
   "name": "python3"
  },
  "language_info": {
   "codemirror_mode": {
    "name": "ipython",
    "version": 3
   },
   "file_extension": ".py",
   "mimetype": "text/x-python",
   "name": "python",
   "nbconvert_exporter": "python",
   "pygments_lexer": "ipython3",
   "version": "3.10.13"
  }
 },
 "nbformat": 4,
 "nbformat_minor": 2
}
