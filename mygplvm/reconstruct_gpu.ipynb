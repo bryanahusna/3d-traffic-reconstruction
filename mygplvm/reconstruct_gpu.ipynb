{
 "cells": [
  {
   "cell_type": "code",
   "execution_count": 4,
   "metadata": {},
   "outputs": [
    {
     "name": "stdout",
     "output_type": "stream",
     "text": [
      "8.12 s ± 0 ns per loop (mean ± std. dev. of 1 run, 1 loop each)\n"
     ]
    }
   ],
   "source": [
    "import numpy as np\n",
    "size = 8192 * 8192\n",
    "array = np.random.random(size).astype(np.float32)\n",
    "%timeit -n 1 -r 1 result = np.sort(array)"
   ]
  },
  {
   "cell_type": "code",
   "execution_count": 7,
   "metadata": {},
   "outputs": [
    {
     "name": "stdout",
     "output_type": "stream",
     "text": [
      "134 ms ± 0 ns per loop (mean ± std. dev. of 1 run, 7 loops each)\n"
     ]
    }
   ],
   "source": [
    "import cupy as cp\n",
    "array_gpu = cp.asarray(array)\n",
    "%timeit -n 7 -r 1 result_gpu = cp.sort(array_gpu)"
   ]
  },
  {
   "cell_type": "code",
   "execution_count": 10,
   "metadata": {},
   "outputs": [
    {
     "name": "stdout",
     "output_type": "stream",
     "text": [
      "163 µs ± 0 ns per loop (mean ± std. dev. of 1 run, 7 loops each)\n"
     ]
    }
   ],
   "source": [
    "import cupy\n",
    "\n",
    "# size of the vectors\n",
    "size = 1024\n",
    "\n",
    "# allocating and populating the vectors\n",
    "a_gpu = cupy.random.rand(size, dtype=cupy.float32)\n",
    "b_gpu = cupy.random.rand(size, dtype=cupy.float32)\n",
    "c_gpu = cupy.zeros(size, dtype=cupy.float32)\n",
    "\n",
    "# CUDA vector_add\n",
    "vector_add_cuda_code = r'''\n",
    "extern \"C\"\n",
    "__global__ void vector_add(const float * A, const float * B, float * C, const int size)\n",
    "{\n",
    "    int item = threadIdx.x;\n",
    "    C[item] = A[item] + B[item];\n",
    "}\n",
    "'''\n",
    "vector_add_gpu = cupy.RawKernel(vector_add_cuda_code, \"vector_add\")\n",
    "\n",
    "import math\n",
    "\n",
    "threads_per_block = 1024\n",
    "grid_size = (int(math.ceil(size / threads_per_block)), 1, 1)\n",
    "block_size = (threads_per_block, 1, 1)\n",
    "\n",
    "%timeit -n 7 -r 1 vector_add_gpu(grid_size, block_size, (a_gpu, b_gpu, c_gpu, size))"
   ]
  },
  {
   "cell_type": "code",
   "execution_count": 12,
   "metadata": {},
   "outputs": [
    {
     "name": "stdout",
     "output_type": "stream",
     "text": [
      "239 µs ± 0 ns per loop (mean ± std. dev. of 1 run, 7 loops each)\n"
     ]
    }
   ],
   "source": [
    "import numpy\n",
    "\n",
    "def vector_add(A, B, C, size):\n",
    "    for item in range(0, size):\n",
    "        C[item] = A[item] + B[item]\n",
    "    \n",
    "    return C\n",
    "\n",
    "a_cpu = cupy.asnumpy(a_gpu)\n",
    "b_cpu = cupy.asnumpy(b_gpu)\n",
    "c_cpu = numpy.zeros(size, dtype=numpy.float32)\n",
    "\n",
    "%timeit -n 7 -r 1 vector_add(a_cpu, b_cpu, c_cpu, size)"
   ]
  },
  {
   "cell_type": "code",
   "execution_count": null,
   "metadata": {},
   "outputs": [],
   "source": [
    "optimize_pose = r'''\n",
    "extern \"C\"\n",
    "__global__ void optimize_pose(const float * A, const float * B, float * C, const int dimension)\n",
    "{\n",
    "    int item = threadIdx.x;\n",
    "    C[item] = A[item] + B[item];\n",
    "}\n",
    "'''"
   ]
  },
  {
   "cell_type": "code",
   "execution_count": null,
   "metadata": {},
   "outputs": [],
   "source": []
  }
 ],
 "metadata": {
  "kernelspec": {
   "display_name": "python310",
   "language": "python",
   "name": "python3"
  },
  "language_info": {
   "codemirror_mode": {
    "name": "ipython",
    "version": 3
   },
   "file_extension": ".py",
   "mimetype": "text/x-python",
   "name": "python",
   "nbconvert_exporter": "python",
   "pygments_lexer": "ipython3",
   "version": "3.10.13"
  }
 },
 "nbformat": 4,
 "nbformat_minor": 2
}
